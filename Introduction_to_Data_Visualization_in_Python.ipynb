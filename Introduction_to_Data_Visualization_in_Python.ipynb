{
  "nbformat": 4,
  "nbformat_minor": 0,
  "metadata": {
    "colab": {
      "name": "Introduction to Data Visualization in Python.ipynb",
      "version": "0.3.2",
      "provenance": [],
      "collapsed_sections": []
    },
    "kernelspec": {
      "display_name": "Python 3",
      "language": "python",
      "name": "python3"
    }
  },
  "cells": [
    {
      "metadata": {
        "id": "-em9WK7k9l_P",
        "colab_type": "text"
      },
      "cell_type": "markdown",
      "source": [
        "# Introduction to Data Visualization in Python\n",
        "\n",
        "Welcome! In this tutorial, we are going to be looking at the wine quality dataset (https://archive.ics.uci.edu/ml/machine-learning-databases/wine-quality/) and using Python data visualization tools in order to model wine quality on various physiochemical tests."
      ]
    },
    {
      "metadata": {
        "id": "Atfkze0U9l_Q",
        "colab_type": "text"
      },
      "cell_type": "markdown",
      "source": [
        "## Import Packages\n",
        "\n",
        "If any of these packages are not already installed, just run `pip3 install *pkg name*`"
      ]
    },
    {
      "metadata": {
        "id": "5z8bUyGD9l_Q",
        "colab_type": "code",
        "colab": {}
      },
      "cell_type": "code",
      "source": [
        "import pandas as pd\n",
        "import matplotlib.pyplot as plt\n",
        "import numpy as np\n",
        "import seaborn as sns\n",
        "from mpl_toolkits.mplot3d import Axes3D\n",
        "\n",
        "%matplotlib inline"
      ],
      "execution_count": 0,
      "outputs": []
    },
    {
      "metadata": {
        "id": "KIyhai2I9l_T",
        "colab_type": "text"
      },
      "cell_type": "markdown",
      "source": [
        "## Pre-processing the Data\n",
        "\n",
        "Download the wine quality CSVs (red wine & white wine) from the following links: \n",
        "* red wine = https://archive.ics.uci.edu/ml/machine-learning-databases/wine-quality/winequality-red.csv\n",
        "* white wine = https://archive.ics.uci.edu/ml/machine-learning-databases/wine-quality/winequality-white.csv\n",
        "\n",
        "Move the CSVs to the same directory as this notebook."
      ]
    },
    {
      "metadata": {
        "id": "IHF5SKuJ9sO0",
        "colab_type": "code",
        "colab": {}
      },
      "cell_type": "code",
      "source": [
        "from google.colab import files\n",
        "uploaded = files.upload()"
      ],
      "execution_count": 0,
      "outputs": []
    },
    {
      "metadata": {
        "id": "d1u6bCtQ9l_U",
        "colab_type": "code",
        "colab": {}
      },
      "cell_type": "code",
      "source": [
        "## loading red wine csv\n",
        "red_wine = pd.read_csv('winequality-red.csv', sep=';')\n",
        "\n",
        "## TODO: load the white wine csv using pandas\n",
        "white_wine = ..."
      ],
      "execution_count": 0,
      "outputs": []
    },
    {
      "metadata": {
        "id": "AOVKg1j69l_W",
        "colab_type": "text"
      },
      "cell_type": "markdown",
      "source": [
        "Let's concatenate the `red_wine` and `white_wine` dataframes into a `wine` dataframe."
      ]
    },
    {
      "metadata": {
        "id": "gyN9mzeS9l_W",
        "colab_type": "code",
        "colab": {}
      },
      "cell_type": "code",
      "source": [
        "## Add a label for red wine versus white wine\n",
        "red_wine['type'] = 'red'\n",
        "white_wine['type'] = 'white'\n",
        "\n",
        "## TODO: concatenate both dataframes using pandas\n",
        "wines = ...\n",
        "\n",
        "## shuffle rows of dataframe\n",
        "wines = wines.sample(frac=1).reset_index(drop=True)"
      ],
      "execution_count": 0,
      "outputs": []
    },
    {
      "metadata": {
        "id": "JB2UAaTN9l_Y",
        "colab_type": "code",
        "colab": {}
      },
      "cell_type": "code",
      "source": [
        "wines.head()"
      ],
      "execution_count": 0,
      "outputs": []
    },
    {
      "metadata": {
        "id": "s5eunApf9l_e",
        "colab_type": "text"
      },
      "cell_type": "markdown",
      "source": [
        "As can be seen above, each wine dataset has the results of multiple physiochemical tests, alongside a continuous quality. \n",
        "\n",
        "Let's discretize this continuous variable as follows (quality_label): \n",
        "* low: value <= 5\n",
        "* med: 5 < value <= 7 \n",
        "* high: value > 7"
      ]
    },
    {
      "metadata": {
        "id": "Yq62QmVp9l_f",
        "colab_type": "code",
        "colab": {}
      },
      "cell_type": "code",
      "source": [
        "quality_label = []\n",
        "for value in wines['quality']:\n",
        "    ## TODO: assign quality label array with low, med, high\n",
        "    if value <= 5: \n",
        "        ...\n",
        "    elif value > 5 and value <= 7: \n",
        "        ...\n",
        "    else: \n",
        "        ...\n",
        "\n",
        "wines['quality_label'] = quality_label"
      ],
      "execution_count": 0,
      "outputs": []
    },
    {
      "metadata": {
        "id": "7ALOsr9u9l_h",
        "colab_type": "code",
        "colab": {}
      },
      "cell_type": "code",
      "source": [
        "wines.head()"
      ],
      "execution_count": 0,
      "outputs": []
    },
    {
      "metadata": {
        "id": "C_9uaTgT9l_k",
        "colab_type": "text"
      },
      "cell_type": "markdown",
      "source": [
        "# 1D Visualization:"
      ]
    },
    {
      "metadata": {
        "id": "V3mpx9419l_l",
        "colab_type": "text"
      },
      "cell_type": "markdown",
      "source": [
        "## Univariate Analysis\n",
        "\n",
        "Analyze one data attribute/variable & visualize. \n",
        "\n",
        "Let's create a histogram for each numeric attribute!"
      ]
    },
    {
      "metadata": {
        "id": "jxtIDoli9l_l",
        "colab_type": "code",
        "colab": {}
      },
      "cell_type": "code",
      "source": [
        "fig = wines.hist(bins=15,\n",
        "                 edgecolor='black', \n",
        "                 xrot=45, yrot=0,\n",
        "                 figsize=(10,9),\n",
        "                 grid=False)\n",
        "\n",
        "plt.tight_layout(rect=(0, 0, 1.5, 1.5))   "
      ],
      "execution_count": 0,
      "outputs": []
    },
    {
      "metadata": {
        "id": "YYqdelEn9l_o",
        "colab_type": "text"
      },
      "cell_type": "markdown",
      "source": [
        "## Continuous Numeric Attribute\n",
        "\n",
        "Let's analyze a continuous, numeric attribute (i.e. citric acid content)"
      ]
    },
    {
      "metadata": {
        "id": "w6XD8kro9l_p",
        "colab_type": "code",
        "colab": {}
      },
      "cell_type": "code",
      "source": [
        "## create figure\n",
        "fig = plt.figure(figsize=(24, 15))\n",
        "title = fig.suptitle(\"Citric Acid Content in Wine\", fontsize=16, fontweight='bold')\n",
        "fig.subplots_adjust(top=0.88, wspace=0.3)\n",
        "\n",
        "## histogram of continuous variable\n",
        "ax1 = fig.add_subplot(221)\n",
        "ax1.set_xlabel(\"Citric Acid\")\n",
        "ax1.set_ylabel(\"Frequency\")\n",
        "\n",
        "## TODO: calculate the mean \n",
        "citric_acid_mean = ...\n",
        "## add mean as text attribute\n",
        "ax1.text(x=1.2, y=800, \n",
        "         s=r'$\\mu$='+str(citric_acid_mean), \n",
        "         fontsize=12)\n",
        "\n",
        "freq, bins, patches = ax1.hist(wines['citric acid'], \n",
        "                               bins=40,\n",
        "                               color='coral',\n",
        "                               edgecolor='black')\n",
        "\n",
        "## density plot of continuous variable\n",
        "ax2 = fig.add_subplot(222) \n",
        "ax2.set_xlabel(\"Citric Acid\")\n",
        "ax2.set_ylabel(\"Density\") \n",
        "## TODO: use kdeplot to plot the density graph\n",
        "sns.kdeplot(...)"
      ],
      "execution_count": 0,
      "outputs": []
    },
    {
      "metadata": {
        "id": "hfPB2_B79l_r",
        "colab_type": "text"
      },
      "cell_type": "markdown",
      "source": [
        "## Discrete Categorical Attribute\n",
        "\n",
        "Let's analyze a discrete, categorical attribute (i.e. quality)"
      ]
    },
    {
      "metadata": {
        "id": "CGUC9iao9l_s",
        "colab_type": "code",
        "colab": {}
      },
      "cell_type": "code",
      "source": [
        "## create a figure\n",
        "fig = plt.figure(figsize=(6, 4))\n",
        "title = fig.suptitle(\"Wine Quality Frequency\", fontsize=14, fontweight='bold')\n",
        "fig.subplots_adjust(top=0.9, wspace=0.3)\n",
        "\n",
        "## TODO: calculate the values within the bin\n",
        "quality_counts = ...\n",
        "\n",
        "ax = fig.add_subplot(1,1,1)\n",
        "ax.set_xlabel(\"Quality\")\n",
        "ax.set_ylabel(\"Frequency\") \n",
        "ax.tick_params(axis='both', which='major', labelsize=8.5)\n",
        "\n",
        "## TODO: plot barchart using ax.bar\n",
        "bar = ax.bar(...)"
      ],
      "execution_count": 0,
      "outputs": []
    },
    {
      "metadata": {
        "id": "kMa3HXej9l_u",
        "colab_type": "text"
      },
      "cell_type": "markdown",
      "source": [
        "# 2D Visualization:"
      ]
    },
    {
      "metadata": {
        "id": "cBKvGXQg9l_u",
        "colab_type": "text"
      },
      "cell_type": "markdown",
      "source": [
        "Let's look at finding potential relationships/correlations between data attributes. \n",
        "\n",
        "In order to do this, let's start by creating a heatmap from a correlation matrix!\n",
        "\n",
        "## Heatmap"
      ]
    },
    {
      "metadata": {
        "id": "V4kCpWSa9l_v",
        "colab_type": "code",
        "colab": {}
      },
      "cell_type": "code",
      "source": [
        "## TODO: calculate correlation matrix using pandas\n",
        "corr = ...\n",
        "\n",
        "## create figure\n",
        "fig, ax = plt.subplots(1, 1, figsize=(10,6))\n",
        "\n",
        "## TODO: create a heatmap\n",
        "heatmap = sns.heatmap(...)\n",
        "\n",
        "fig.suptitle('Wine Attributes Correlation Heatmap', \n",
        "              fontsize=14, \n",
        "              fontweight='bold')"
      ],
      "execution_count": 0,
      "outputs": []
    },
    {
      "metadata": {
        "id": "2zDbF7wj9l_x",
        "colab_type": "text"
      },
      "cell_type": "markdown",
      "source": [
        "Let's pick the most strongly correlated attributes to analyze. \n",
        "\n",
        "These are: density, residual sugar, total sulfur dioxide, free sulfur dioxide, and fixed acidity\n",
        "\n",
        "## Pair Plot"
      ]
    },
    {
      "metadata": {
        "id": "hWO3bveq9l_y",
        "colab_type": "code",
        "colab": {}
      },
      "cell_type": "code",
      "source": [
        "## TODO: define attributes of interest in an array\n",
        "cols = ...\n",
        "\n",
        "## TODO: create a pairplot using seaborn's pairplot function\n",
        "pairplot = sns.pairplot(...)\n",
        "\n",
        "fig = pairplot.fig \n",
        "fig.subplots_adjust(top=0.93, wspace=0.3)\n",
        "fig.suptitle('Wine Attributes Pairwise Plots', \n",
        "              fontsize=14, fontweight='bold')"
      ],
      "execution_count": 0,
      "outputs": []
    },
    {
      "metadata": {
        "id": "Y0GQF-uU9l_2",
        "colab_type": "text"
      },
      "cell_type": "markdown",
      "source": [
        "## Continuous Numeric Attributes\n",
        "\n",
        "Let's look at the correlation between fixed acidity & density!"
      ]
    },
    {
      "metadata": {
        "id": "Jod-L8sq9l_2",
        "colab_type": "code",
        "colab": {}
      },
      "cell_type": "code",
      "source": [
        "## TODO: create a joint plot using seaborn's joint plot function\n",
        "jointplot = sns.jointplot(...)"
      ],
      "execution_count": 0,
      "outputs": []
    },
    {
      "metadata": {
        "id": "OkWU42HN9l_6",
        "colab_type": "code",
        "colab": {}
      },
      "cell_type": "code",
      "source": [
        "## TODO: create a KDE joint plot using seaborn\n",
        "kdejoint = sns.jointplot(...)"
      ],
      "execution_count": 0,
      "outputs": []
    },
    {
      "metadata": {
        "id": "yp3yQ0KP9l__",
        "colab_type": "text"
      },
      "cell_type": "markdown",
      "source": [
        "## Discrete Categorical Attributes\n",
        "\n",
        "Let's make a histogram comparing red wine and white wine quality numbers!"
      ]
    },
    {
      "metadata": {
        "id": "QpdMo8wr9mAA",
        "colab_type": "code",
        "colab": {}
      },
      "cell_type": "code",
      "source": [
        "## TODO: create a histogram comparing red & white wine (i.e. countplot)\n",
        "countplot = sns.countplot(...,\n",
        "                          palette={\"red\": \"crimson\", \"white\": \"lemonchiffon\"})"
      ],
      "execution_count": 0,
      "outputs": []
    },
    {
      "metadata": {
        "id": "8biUT_SY9mAC",
        "colab_type": "text"
      },
      "cell_type": "markdown",
      "source": [
        "## Mixed Attributes (Numeric & Categorical)\n",
        "\n",
        "Let's try using `seaborn`'s facet plot to compare the citric acid content in white wine versus red wine."
      ]
    },
    {
      "metadata": {
        "id": "gT4uzqbC9mAC",
        "colab_type": "code",
        "colab": {}
      },
      "cell_type": "code",
      "source": [
        "## initialize figure\n",
        "fig = plt.figure(figsize=(10,8))\n",
        "title = fig.suptitle(\"Citric Acid Content in Wine\", fontsize=14)\n",
        "\n",
        "ax = fig.add_subplot(111)\n",
        "ax.set_xlabel(\"Citric Acid\")\n",
        "ax.set_ylabel(\"Frequency\") \n",
        "\n",
        "## TODO: initialize facet grid\n",
        "grid = sns.FacetGrid(..., \n",
        "                  palette={\"red\": \"crimson\", \"white\": \"lemonchiffon\"})\n",
        "\n",
        "## add a kde plot\n",
        "grid.map(sns.distplot, 'citric acid', kde=True, bins=15, ax=ax)\n",
        "\n",
        "ax.legend(title='Wine Type')\n",
        "plt.close(2)"
      ],
      "execution_count": 0,
      "outputs": []
    },
    {
      "metadata": {
        "id": "2fLPfGg09mAE",
        "colab_type": "text"
      },
      "cell_type": "markdown",
      "source": [
        "Let's try making some box & violin plots!"
      ]
    },
    {
      "metadata": {
        "id": "7mUg1bfd9mAF",
        "colab_type": "code",
        "colab": {}
      },
      "cell_type": "code",
      "source": [
        "## set up figure\n",
        "f, (ax1, ax2) = plt.subplots(1, 2, figsize=(24, 8))\n",
        "f.suptitle('Wine Quality vs. Alcohol Content', fontsize=14)\n",
        "\n",
        "## TODO: create boxplot using seaborn\n",
        "sns.boxplot(..., \n",
        "            ax=ax1)\n",
        "\n",
        "ax1.set_xlabel(\"Wine Quality\",size=12,alpha=0.8)\n",
        "ax1.set_ylabel(\"Wine Alcohol %\",size=12,alpha=0.8)\n",
        "\n",
        "## TODO: create violin plot using seaborn\n",
        "sns.violinplot(...,   \n",
        "               ax=ax2)\n",
        "\n",
        "ax2.set_xlabel(\"Wine Quality\",size=12,alpha=0.8)\n",
        "ax2.set_ylabel(\"Wine Alcohol %\",size=12,alpha=0.8)"
      ],
      "execution_count": 0,
      "outputs": []
    },
    {
      "metadata": {
        "id": "DvCo_C6q9mAI",
        "colab_type": "text"
      },
      "cell_type": "markdown",
      "source": [
        "# Multiple Dimension Visualization:"
      ]
    },
    {
      "metadata": {
        "id": "tKBgh-8w9mAJ",
        "colab_type": "text"
      },
      "cell_type": "markdown",
      "source": [
        "## 3D Visualization\n",
        "\n",
        "Let's create a \"3D\" pairplot based on wine type!"
      ]
    },
    {
      "metadata": {
        "id": "9hWURh-z9mAJ",
        "colab_type": "code",
        "colab": {}
      },
      "cell_type": "code",
      "source": [
        "## attributes of interest\n",
        "cols = ['density', \n",
        "        'residual sugar', \n",
        "        'total sulfur dioxide', \n",
        "        'fixed acidity', \n",
        "        'type']\n",
        "  \n",
        "## TODO: make 3D pairplot\n",
        "pairplot = sns.pairplot(...)\n",
        "\n",
        "## add figure\n",
        "fig = pairplot.fig \n",
        "fig.subplots_adjust(top=0.93, wspace=0.3)\n",
        "fig.suptitle('Wine Attributes Pairwise Plots', fontsize=14)"
      ],
      "execution_count": 0,
      "outputs": []
    },
    {
      "metadata": {
        "id": "JZD70WV59mAL",
        "colab_type": "text"
      },
      "cell_type": "markdown",
      "source": [
        "## 3D Continuous Numeric Attributes\n",
        "\n",
        "Let's plot the relationship between acidity, alcohol & residual sugar"
      ]
    },
    {
      "metadata": {
        "id": "Qecpr3ia9mAN",
        "colab_type": "code",
        "colab": {}
      },
      "cell_type": "code",
      "source": [
        "## TODO: use scatter and set size attribute * 25\n",
        "plt.scatter(...)\n",
        "\n",
        "plt.xlabel('Fixed Acidity')\n",
        "plt.ylabel('Alcohol')\n",
        "plt.title('Wine Alcohol Content - Fixed Acidity - Residual Sugar', y=1.05)"
      ],
      "execution_count": 0,
      "outputs": []
    },
    {
      "metadata": {
        "id": "-XPKV22I9mAP",
        "colab_type": "text"
      },
      "cell_type": "markdown",
      "source": [
        "## 3D Discrete Categorical Attributes\n",
        "\n",
        "Let's look at quality vs. quality label vs. wine type"
      ]
    },
    {
      "metadata": {
        "id": "UYp5wyTj9mAP",
        "colab_type": "code",
        "colab": {}
      },
      "cell_type": "code",
      "source": [
        "## TODO: create factorplot using seaborn\n",
        "factorplot = sns.factorplot(...)"
      ],
      "execution_count": 0,
      "outputs": []
    },
    {
      "metadata": {
        "id": "8sMcAgXw9mAS",
        "colab_type": "text"
      },
      "cell_type": "markdown",
      "source": [
        "## 3D Mixed Attributes (Categorical & Numerical)\n",
        "\n",
        "Let's look at the relationship between sulphates, alcohol, and wine type\n",
        "\n",
        "* x-axis = sulphates\n",
        "* y-axis = alcohol\n",
        "* color = wine type"
      ]
    },
    {
      "metadata": {
        "id": "rP0gd7X49mAS",
        "colab_type": "code",
        "colab": {}
      },
      "cell_type": "code",
      "source": [
        "## TODO: make an lm joint plot using seaborn's lmplot\n",
        "linearreg_jointplot = sns.lmplot(...)"
      ],
      "execution_count": 0,
      "outputs": []
    },
    {
      "metadata": {
        "id": "T4ATSHEh9mAU",
        "colab_type": "code",
        "colab": {}
      },
      "cell_type": "code",
      "source": [
        "f, (ax1, ax2) = plt.subplots(1, 2, figsize=(14, 4))\n",
        "f.suptitle('Wine Type - Quality - Alcohol %', fontsize=14)\n",
        "\n",
        "## TODO: create a violin plot\n",
        "sns.violinplot(...,\n",
        "               ax=ax1)\n",
        "\n",
        "ax1.set_xlabel(\"Wine Quality\",size=12,alpha=0.8)\n",
        "ax1.set_ylabel(\"Wine Alcohol %\",size=12,alpha=0.8)\n",
        "ax1.legend(loc='best', title='Wine Type')\n",
        "\n",
        "## TODO: create a boxplot\n",
        "sns.boxplot(..., \n",
        "            ax=ax2)\n",
        "\n",
        "ax2.set_xlabel(\"Wine Quality Class\",size=12,alpha=0.8)\n",
        "ax2.set_ylabel(\"Wine Alcohol %\",size=12,alpha=0.8)\n",
        "plt.legend(loc='best', title='Wine Type')"
      ],
      "execution_count": 0,
      "outputs": []
    },
    {
      "metadata": {
        "id": "kOi1acHG9mAW",
        "colab_type": "text"
      },
      "cell_type": "markdown",
      "source": [
        "## 6D Plotting!\n",
        "\n",
        "Let's visualize this data in *6 dimensions*\n",
        "\n",
        "1) x-axis\n",
        "2) y-axis\n",
        "3) color\n",
        "4) n columns\n",
        "5) size\n",
        "6) m rows"
      ]
    },
    {
      "metadata": {
        "id": "wsoPhsUJ9mAW",
        "colab_type": "code",
        "colab": {}
      },
      "cell_type": "code",
      "source": [
        "## TODO: fill in row, col, hue\n",
        "grid = sns.FacetGrid(wines,\n",
        "                  row=..., # row\n",
        "                  col=..., # column\n",
        "                  hue=..., # color\n",
        "                  size=4)\n",
        "\n",
        "## TODO: fill in x and y axis\n",
        "grid.map(plt.scatter,\n",
        "         ..., # x-axis\n",
        "         ..., # y-axis\n",
        "         alpha=0.5, \n",
        "         edgecolor='k', \n",
        "         linewidth=0.5, \n",
        "         s=...) # size\n",
        "\n",
        "fig = grid.fig \n",
        "fig.set_size_inches(18, 8)\n",
        "fig.subplots_adjust(top=0.85, wspace=0.3)\n",
        "fig.suptitle('Wine Type - Sulfur Dioxide - Residual Sugar - Alcohol - Quality Class - Quality Rating', fontsize=14)\n",
        "grid.add_legend(title='Wine Quality Class')"
      ],
      "execution_count": 0,
      "outputs": []
    },
    {
      "metadata": {
        "id": "OXCuxlSI-YFt",
        "colab_type": "code",
        "colab": {}
      },
      "cell_type": "code",
      "source": [
        ""
      ],
      "execution_count": 0,
      "outputs": []
    }
  ]
}